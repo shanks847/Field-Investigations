{
  "nbformat": 4,
  "nbformat_minor": 0,
  "metadata": {
    "colab": {
      "provenance": []
    },
    "kernelspec": {
      "name": "python3",
      "display_name": "Python 3"
    },
    "language_info": {
      "name": "python"
    }
  },
  "cells": [
    {
      "cell_type": "code",
      "execution_count": 1,
      "metadata": {
        "colab": {
          "base_uri": "https://localhost:8080/",
          "height": 202
        },
        "id": "fPXY7IMVDnzL",
        "outputId": "7cd6ab03-0d50-42f7-ca9a-94b4fabf0a70"
      },
      "outputs": [
        {
          "output_type": "display_data",
          "data": {
            "text/plain": [
              "<Figure size 640x480 with 1 Axes>"
            ],
            "image/png": "[encoded data removed]"
          },
          "metadata": {}
        }
      ],
      "source": [
        "import matplotlib.pyplot as plt\n",
        "import matplotlib.patches as patches\n",
        "\n",
        "# Create a figure and axis\n",
        "fig, ax = plt.subplots()\n",
        "\n",
        "# Coordinates\n",
        "x1, y1 = 1, 1\n",
        "x2, y2 = 5, 1\n",
        "\n",
        "# Draw line\n",
        "ax.plot([x1, x2], [y1, y2], color='black', linewidth=2)\n",
        "\n",
        "# Draw boxes at each end\n",
        "box_size = 0.5\n",
        "box1 = patches.Rectangle((x1 - box_size/2, y1 - box_size/2), box_size, box_size,\n",
        "                         edgecolor='blue', facecolor='lightblue', linewidth=2)\n",
        "box2 = patches.Rectangle((x2 - box_size/2, y2 - box_size/2), box_size, box_size,\n",
        "                         edgecolor='red', facecolor='salmon', linewidth=2)\n",
        "\n",
        "ax.add_patch(box1)\n",
        "ax.add_patch(box2)\n",
        "\n",
        "# Set limits and aspect\n",
        "ax.set_xlim(0, 6)\n",
        "ax.set_ylim(0, 2)\n",
        "ax.set_aspect('equal')\n",
        "ax.axis('off')  # Hide axes\n",
        "\n",
        "plt.show()\n"
      ]
    }
  ]
}